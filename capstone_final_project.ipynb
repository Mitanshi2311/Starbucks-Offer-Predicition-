{
 "cells": [
  {
   "cell_type": "code",
   "execution_count": 1,
   "metadata": {},
   "outputs": [],
   "source": [
    "##importing packages\n",
    "import pandas as pd\n",
    "import numpy as np\n",
    "import json\n",
    "import progressbar\n",
    "import matplotlib.pyplot as plt\n",
    "import seaborn as sns\n",
    "import warnings\n",
    "warnings.filterwarnings(\"ignore\")"
   ]
  },
  {
   "cell_type": "code",
   "execution_count": 2,
   "metadata": {},
   "outputs": [
    {
     "name": "stdout",
     "output_type": "stream",
     "text": [
      "Requirement already satisfied: progressbar in c:\\users\\drumil patel\\anaconda3\\lib\\site-packages (2.5)\n"
     ]
    }
   ],
   "source": [
    "\n",
    "!pip install progressbar"
   ]
  },
  {
   "cell_type": "code",
   "execution_count": 3,
   "metadata": {},
   "outputs": [],
   "source": [
    "# read in the json files\n",
    "portfolio = pd.read_json('C:\\\\Users\\\\Drumil Patel\\\\Desktop\\\\Capstone\\\\portfolio.json', orient='records', lines=True)\n",
    "profile = pd.read_json('C:\\\\Users\\\\Drumil Patel\\\\Desktop\\\\Capstone\\\\profile.json', orient='records', lines=True)\n",
    "transcript = pd.read_json('C:\\\\Users\\\\Drumil Patel\\\\Desktop\\\\Capstone\\\\transcript.json', orient='records', lines=True)"
   ]
  },
  {
   "cell_type": "code",
   "execution_count": 4,
   "metadata": {},
   "outputs": [],
   "source": [
    "file_name = 'portfolio.csv'\n",
    "  \n",
    "# saving the excel\n",
    "portfolio.to_csv(file_name)"
   ]
  },
  {
   "cell_type": "code",
   "execution_count": 5,
   "metadata": {},
   "outputs": [],
   "source": [
    "file_name = 'profile.csv'\n",
    "  \n",
    "# saving the excel\n",
    "profile.to_csv(file_name)"
   ]
  },
  {
   "cell_type": "code",
   "execution_count": 6,
   "metadata": {},
   "outputs": [],
   "source": [
    "file_name = 'transcript.csv'\n",
    "  \n",
    "# saving the excel\n",
    "transcript.to_csv(file_name)"
   ]
  },
  {
   "cell_type": "markdown",
   "metadata": {},
   "source": [
    "# cleaning Portfolio dataset"
   ]
  },
  {
   "cell_type": "markdown",
   "metadata": {},
   "source": [
    "#### Portfolio dataset contains information like reward, channels(email,web,mobile), offer_type and duration."
   ]
  },
  {
   "cell_type": "code",
   "execution_count": 7,
   "metadata": {},
   "outputs": [],
   "source": [
    "portfolio = pd.read_csv('C:\\\\Users\\\\Drumil Patel\\\\Desktop\\\\Capstone\\\\portfolio.csv')"
   ]
  },
  {
   "cell_type": "code",
   "execution_count": 8,
   "metadata": {},
   "outputs": [
    {
     "data": {
      "text/html": [
       "<div>\n",
       "<style scoped>\n",
       "    .dataframe tbody tr th:only-of-type {\n",
       "        vertical-align: middle;\n",
       "    }\n",
       "\n",
       "    .dataframe tbody tr th {\n",
       "        vertical-align: top;\n",
       "    }\n",
       "\n",
       "    .dataframe thead th {\n",
       "        text-align: right;\n",
       "    }\n",
       "</style>\n",
       "<table border=\"1\" class=\"dataframe\">\n",
       "  <thead>\n",
       "    <tr style=\"text-align: right;\">\n",
       "      <th></th>\n",
       "      <th>Unnamed: 0</th>\n",
       "      <th>reward</th>\n",
       "      <th>channels</th>\n",
       "      <th>difficulty</th>\n",
       "      <th>duration</th>\n",
       "      <th>offer_type</th>\n",
       "      <th>id</th>\n",
       "    </tr>\n",
       "  </thead>\n",
       "  <tbody>\n",
       "    <tr>\n",
       "      <th>0</th>\n",
       "      <td>0</td>\n",
       "      <td>10</td>\n",
       "      <td>['email', 'mobile', 'social']</td>\n",
       "      <td>10</td>\n",
       "      <td>7</td>\n",
       "      <td>bogo</td>\n",
       "      <td>ae264e3637204a6fb9bb56bc8210ddfd</td>\n",
       "    </tr>\n",
       "    <tr>\n",
       "      <th>1</th>\n",
       "      <td>1</td>\n",
       "      <td>10</td>\n",
       "      <td>['web', 'email', 'mobile', 'social']</td>\n",
       "      <td>10</td>\n",
       "      <td>5</td>\n",
       "      <td>bogo</td>\n",
       "      <td>4d5c57ea9a6940dd891ad53e9dbe8da0</td>\n",
       "    </tr>\n",
       "    <tr>\n",
       "      <th>2</th>\n",
       "      <td>2</td>\n",
       "      <td>0</td>\n",
       "      <td>['web', 'email', 'mobile']</td>\n",
       "      <td>0</td>\n",
       "      <td>4</td>\n",
       "      <td>informational</td>\n",
       "      <td>3f207df678b143eea3cee63160fa8bed</td>\n",
       "    </tr>\n",
       "    <tr>\n",
       "      <th>3</th>\n",
       "      <td>3</td>\n",
       "      <td>5</td>\n",
       "      <td>['web', 'email', 'mobile']</td>\n",
       "      <td>5</td>\n",
       "      <td>7</td>\n",
       "      <td>bogo</td>\n",
       "      <td>9b98b8c7a33c4b65b9aebfe6a799e6d9</td>\n",
       "    </tr>\n",
       "    <tr>\n",
       "      <th>4</th>\n",
       "      <td>4</td>\n",
       "      <td>5</td>\n",
       "      <td>['web', 'email']</td>\n",
       "      <td>20</td>\n",
       "      <td>10</td>\n",
       "      <td>discount</td>\n",
       "      <td>0b1e1539f2cc45b7b9fa7c272da2e1d7</td>\n",
       "    </tr>\n",
       "  </tbody>\n",
       "</table>\n",
       "</div>"
      ],
      "text/plain": [
       "   Unnamed: 0  reward                              channels  difficulty  \\\n",
       "0           0      10         ['email', 'mobile', 'social']          10   \n",
       "1           1      10  ['web', 'email', 'mobile', 'social']          10   \n",
       "2           2       0            ['web', 'email', 'mobile']           0   \n",
       "3           3       5            ['web', 'email', 'mobile']           5   \n",
       "4           4       5                      ['web', 'email']          20   \n",
       "\n",
       "   duration     offer_type                                id  \n",
       "0         7           bogo  ae264e3637204a6fb9bb56bc8210ddfd  \n",
       "1         5           bogo  4d5c57ea9a6940dd891ad53e9dbe8da0  \n",
       "2         4  informational  3f207df678b143eea3cee63160fa8bed  \n",
       "3         7           bogo  9b98b8c7a33c4b65b9aebfe6a799e6d9  \n",
       "4        10       discount  0b1e1539f2cc45b7b9fa7c272da2e1d7  "
      ]
     },
     "execution_count": 8,
     "metadata": {},
     "output_type": "execute_result"
    }
   ],
   "source": [
    "portfolio.head()"
   ]
  },
  {
   "cell_type": "code",
   "execution_count": 9,
   "metadata": {},
   "outputs": [
    {
     "data": {
      "text/plain": [
       "array([ 7,  5,  4, 10,  3], dtype=int64)"
      ]
     },
     "execution_count": 9,
     "metadata": {},
     "output_type": "execute_result"
    }
   ],
   "source": [
    "portfolio.duration.unique()"
   ]
  },
  {
   "cell_type": "code",
   "execution_count": 10,
   "metadata": {},
   "outputs": [
    {
     "data": {
      "text/plain": [
       "array([10,  0,  5,  3,  2], dtype=int64)"
      ]
     },
     "execution_count": 10,
     "metadata": {},
     "output_type": "execute_result"
    }
   ],
   "source": [
    "portfolio.reward.unique()"
   ]
  },
  {
   "cell_type": "code",
   "execution_count": 11,
   "metadata": {},
   "outputs": [
    {
     "data": {
      "text/plain": [
       "array(['bogo', 'informational', 'discount'], dtype=object)"
      ]
     },
     "execution_count": 11,
     "metadata": {},
     "output_type": "execute_result"
    }
   ],
   "source": [
    "portfolio.offer_type.unique()"
   ]
  },
  {
   "cell_type": "code",
   "execution_count": 12,
   "metadata": {},
   "outputs": [
    {
     "data": {
      "text/plain": [
       "array([10,  0,  5, 20,  7], dtype=int64)"
      ]
     },
     "execution_count": 12,
     "metadata": {},
     "output_type": "execute_result"
    }
   ],
   "source": [
    "portfolio.difficulty.unique()"
   ]
  },
  {
   "cell_type": "code",
   "execution_count": 13,
   "metadata": {},
   "outputs": [],
   "source": [
    "# here we are renaming column id to offer_id for better understanding.\n",
    "\n",
    "portfolio.rename(columns={'id': 'offer_id'}, inplace=True)"
   ]
  },
  {
   "cell_type": "code",
   "execution_count": 14,
   "metadata": {},
   "outputs": [
    {
     "name": "stdout",
     "output_type": "stream",
     "text": [
      "<class 'pandas.core.frame.DataFrame'>\n",
      "RangeIndex: 10 entries, 0 to 9\n",
      "Data columns (total 7 columns):\n",
      " #   Column      Non-Null Count  Dtype \n",
      "---  ------      --------------  ----- \n",
      " 0   Unnamed: 0  10 non-null     int64 \n",
      " 1   reward      10 non-null     int64 \n",
      " 2   channels    10 non-null     object\n",
      " 3   difficulty  10 non-null     int64 \n",
      " 4   duration    10 non-null     int64 \n",
      " 5   offer_type  10 non-null     object\n",
      " 6   offer_id    10 non-null     object\n",
      "dtypes: int64(4), object(3)\n",
      "memory usage: 688.0+ bytes\n"
     ]
    }
   ],
   "source": [
    "portfolio.info()"
   ]
  },
  {
   "cell_type": "code",
   "execution_count": 15,
   "metadata": {},
   "outputs": [
    {
     "data": {
      "text/html": [
       "<div>\n",
       "<style scoped>\n",
       "    .dataframe tbody tr th:only-of-type {\n",
       "        vertical-align: middle;\n",
       "    }\n",
       "\n",
       "    .dataframe tbody tr th {\n",
       "        vertical-align: top;\n",
       "    }\n",
       "\n",
       "    .dataframe thead th {\n",
       "        text-align: right;\n",
       "    }\n",
       "</style>\n",
       "<table border=\"1\" class=\"dataframe\">\n",
       "  <thead>\n",
       "    <tr style=\"text-align: right;\">\n",
       "      <th></th>\n",
       "      <th>reward</th>\n",
       "      <th>channels</th>\n",
       "      <th>difficulty</th>\n",
       "      <th>duration</th>\n",
       "      <th>offer_type</th>\n",
       "      <th>offer_id</th>\n",
       "    </tr>\n",
       "  </thead>\n",
       "  <tbody>\n",
       "    <tr>\n",
       "      <th>0</th>\n",
       "      <td>10</td>\n",
       "      <td>['email', 'mobile', 'social']</td>\n",
       "      <td>10</td>\n",
       "      <td>7</td>\n",
       "      <td>bogo</td>\n",
       "      <td>ae264e3637204a6fb9bb56bc8210ddfd</td>\n",
       "    </tr>\n",
       "    <tr>\n",
       "      <th>1</th>\n",
       "      <td>10</td>\n",
       "      <td>['web', 'email', 'mobile', 'social']</td>\n",
       "      <td>10</td>\n",
       "      <td>5</td>\n",
       "      <td>bogo</td>\n",
       "      <td>4d5c57ea9a6940dd891ad53e9dbe8da0</td>\n",
       "    </tr>\n",
       "    <tr>\n",
       "      <th>2</th>\n",
       "      <td>0</td>\n",
       "      <td>['web', 'email', 'mobile']</td>\n",
       "      <td>0</td>\n",
       "      <td>4</td>\n",
       "      <td>informational</td>\n",
       "      <td>3f207df678b143eea3cee63160fa8bed</td>\n",
       "    </tr>\n",
       "    <tr>\n",
       "      <th>3</th>\n",
       "      <td>5</td>\n",
       "      <td>['web', 'email', 'mobile']</td>\n",
       "      <td>5</td>\n",
       "      <td>7</td>\n",
       "      <td>bogo</td>\n",
       "      <td>9b98b8c7a33c4b65b9aebfe6a799e6d9</td>\n",
       "    </tr>\n",
       "    <tr>\n",
       "      <th>4</th>\n",
       "      <td>5</td>\n",
       "      <td>['web', 'email']</td>\n",
       "      <td>20</td>\n",
       "      <td>10</td>\n",
       "      <td>discount</td>\n",
       "      <td>0b1e1539f2cc45b7b9fa7c272da2e1d7</td>\n",
       "    </tr>\n",
       "  </tbody>\n",
       "</table>\n",
       "</div>"
      ],
      "text/plain": [
       "   reward                              channels  difficulty  duration  \\\n",
       "0      10         ['email', 'mobile', 'social']          10         7   \n",
       "1      10  ['web', 'email', 'mobile', 'social']          10         5   \n",
       "2       0            ['web', 'email', 'mobile']           0         4   \n",
       "3       5            ['web', 'email', 'mobile']           5         7   \n",
       "4       5                      ['web', 'email']          20        10   \n",
       "\n",
       "      offer_type                          offer_id  \n",
       "0           bogo  ae264e3637204a6fb9bb56bc8210ddfd  \n",
       "1           bogo  4d5c57ea9a6940dd891ad53e9dbe8da0  \n",
       "2  informational  3f207df678b143eea3cee63160fa8bed  \n",
       "3           bogo  9b98b8c7a33c4b65b9aebfe6a799e6d9  \n",
       "4       discount  0b1e1539f2cc45b7b9fa7c272da2e1d7  "
      ]
     },
     "execution_count": 15,
     "metadata": {},
     "output_type": "execute_result"
    }
   ],
   "source": [
    "del portfolio['Unnamed: 0']\n",
    "portfolio.head()"
   ]
  },
  {
   "cell_type": "code",
   "execution_count": 16,
   "metadata": {},
   "outputs": [
    {
     "data": {
      "text/plain": [
       "0"
      ]
     },
     "execution_count": 16,
     "metadata": {},
     "output_type": "execute_result"
    }
   ],
   "source": [
    "#here we are checking duplicate value present or not \n",
    "\n",
    "portfolio.duplicated().sum()"
   ]
  },
  {
   "cell_type": "code",
   "execution_count": 17,
   "metadata": {},
   "outputs": [
    {
     "data": {
      "text/plain": [
       "reward        0\n",
       "channels      0\n",
       "difficulty    0\n",
       "duration      0\n",
       "offer_type    0\n",
       "offer_id      0\n",
       "dtype: int64"
      ]
     },
     "execution_count": 17,
     "metadata": {},
     "output_type": "execute_result"
    }
   ],
   "source": [
    "#Checking any null value present or not\n",
    "\n",
    "portfolio.isnull().sum()"
   ]
  },
  {
   "cell_type": "markdown",
   "metadata": {},
   "source": [
    "# cleaning Profile dataset"
   ]
  },
  {
   "cell_type": "code",
   "execution_count": 18,
   "metadata": {},
   "outputs": [],
   "source": [
    "profile = pd.read_csv('C:\\\\Users\\\\Drumil Patel\\\\Desktop\\\\Capstone\\\\profile.csv')"
   ]
  },
  {
   "cell_type": "code",
   "execution_count": 19,
   "metadata": {
    "scrolled": true
   },
   "outputs": [
    {
     "data": {
      "text/html": [
       "<div>\n",
       "<style scoped>\n",
       "    .dataframe tbody tr th:only-of-type {\n",
       "        vertical-align: middle;\n",
       "    }\n",
       "\n",
       "    .dataframe tbody tr th {\n",
       "        vertical-align: top;\n",
       "    }\n",
       "\n",
       "    .dataframe thead th {\n",
       "        text-align: right;\n",
       "    }\n",
       "</style>\n",
       "<table border=\"1\" class=\"dataframe\">\n",
       "  <thead>\n",
       "    <tr style=\"text-align: right;\">\n",
       "      <th></th>\n",
       "      <th>Unnamed: 0</th>\n",
       "      <th>gender</th>\n",
       "      <th>age</th>\n",
       "      <th>id</th>\n",
       "      <th>became_member_on</th>\n",
       "      <th>income</th>\n",
       "    </tr>\n",
       "  </thead>\n",
       "  <tbody>\n",
       "    <tr>\n",
       "      <th>0</th>\n",
       "      <td>0</td>\n",
       "      <td>NaN</td>\n",
       "      <td>118</td>\n",
       "      <td>68be06ca386d4c31939f3a4f0e3dd783</td>\n",
       "      <td>20170212</td>\n",
       "      <td>NaN</td>\n",
       "    </tr>\n",
       "    <tr>\n",
       "      <th>1</th>\n",
       "      <td>1</td>\n",
       "      <td>F</td>\n",
       "      <td>55</td>\n",
       "      <td>0610b486422d4921ae7d2bf64640c50b</td>\n",
       "      <td>20170715</td>\n",
       "      <td>112000.0</td>\n",
       "    </tr>\n",
       "    <tr>\n",
       "      <th>2</th>\n",
       "      <td>2</td>\n",
       "      <td>NaN</td>\n",
       "      <td>118</td>\n",
       "      <td>38fe809add3b4fcf9315a9694bb96ff5</td>\n",
       "      <td>20180712</td>\n",
       "      <td>NaN</td>\n",
       "    </tr>\n",
       "    <tr>\n",
       "      <th>3</th>\n",
       "      <td>3</td>\n",
       "      <td>F</td>\n",
       "      <td>75</td>\n",
       "      <td>78afa995795e4d85b5d9ceeca43f5fef</td>\n",
       "      <td>20170509</td>\n",
       "      <td>100000.0</td>\n",
       "    </tr>\n",
       "    <tr>\n",
       "      <th>4</th>\n",
       "      <td>4</td>\n",
       "      <td>NaN</td>\n",
       "      <td>118</td>\n",
       "      <td>a03223e636434f42ac4c3df47e8bac43</td>\n",
       "      <td>20170804</td>\n",
       "      <td>NaN</td>\n",
       "    </tr>\n",
       "  </tbody>\n",
       "</table>\n",
       "</div>"
      ],
      "text/plain": [
       "   Unnamed: 0 gender  age                                id  became_member_on  \\\n",
       "0           0    NaN  118  68be06ca386d4c31939f3a4f0e3dd783          20170212   \n",
       "1           1      F   55  0610b486422d4921ae7d2bf64640c50b          20170715   \n",
       "2           2    NaN  118  38fe809add3b4fcf9315a9694bb96ff5          20180712   \n",
       "3           3      F   75  78afa995795e4d85b5d9ceeca43f5fef          20170509   \n",
       "4           4    NaN  118  a03223e636434f42ac4c3df47e8bac43          20170804   \n",
       "\n",
       "     income  \n",
       "0       NaN  \n",
       "1  112000.0  \n",
       "2       NaN  \n",
       "3  100000.0  \n",
       "4       NaN  "
      ]
     },
     "execution_count": 19,
     "metadata": {},
     "output_type": "execute_result"
    }
   ],
   "source": [
    "profile.head()"
   ]
  },
  {
   "cell_type": "code",
   "execution_count": 20,
   "metadata": {},
   "outputs": [],
   "source": [
    "del profile['Unnamed: 0']"
   ]
  },
  {
   "cell_type": "code",
   "execution_count": 21,
   "metadata": {},
   "outputs": [
    {
     "name": "stdout",
     "output_type": "stream",
     "text": [
      "<class 'pandas.core.frame.DataFrame'>\n",
      "RangeIndex: 17000 entries, 0 to 16999\n",
      "Data columns (total 5 columns):\n",
      " #   Column            Non-Null Count  Dtype  \n",
      "---  ------            --------------  -----  \n",
      " 0   gender            14825 non-null  object \n",
      " 1   age               17000 non-null  int64  \n",
      " 2   id                17000 non-null  object \n",
      " 3   became_member_on  17000 non-null  int64  \n",
      " 4   income            14825 non-null  float64\n",
      "dtypes: float64(1), int64(2), object(2)\n",
      "memory usage: 664.2+ KB\n"
     ]
    }
   ],
   "source": [
    "profile.info()"
   ]
  },
  {
   "cell_type": "code",
   "execution_count": 22,
   "metadata": {},
   "outputs": [
    {
     "data": {
      "text/plain": [
       "0"
      ]
     },
     "execution_count": 22,
     "metadata": {},
     "output_type": "execute_result"
    }
   ],
   "source": [
    "# checking duolicate records\n",
    "\n",
    "profile.duplicated().sum()"
   ]
  },
  {
   "cell_type": "code",
   "execution_count": 23,
   "metadata": {},
   "outputs": [
    {
     "data": {
      "text/plain": [
       "gender              2175\n",
       "age                    0\n",
       "id                     0\n",
       "became_member_on       0\n",
       "income              2175\n",
       "dtype: int64"
      ]
     },
     "execution_count": 23,
     "metadata": {},
     "output_type": "execute_result"
    }
   ],
   "source": [
    "profile.isnull().sum()"
   ]
  },
  {
   "cell_type": "code",
   "execution_count": 24,
   "metadata": {},
   "outputs": [],
   "source": [
    "# we are dropping null values present in columns\n",
    "profile = profile.dropna()"
   ]
  },
  {
   "cell_type": "code",
   "execution_count": 25,
   "metadata": {},
   "outputs": [
    {
     "data": {
      "text/plain": [
       "array([ 55,  75,  68,  65,  58,  61,  26,  62,  49,  57,  40,  64,  78,\n",
       "        42,  56,  33,  46,  59,  67,  53,  22,  96,  69,  20,  45,  54,\n",
       "        39,  41,  79,  66,  29,  44,  63,  36,  76,  77,  30,  51,  27,\n",
       "        73,  74,  70,  89,  50,  90,  60,  19,  72,  52,  18,  71,  83,\n",
       "        43,  47,  32,  38,  34,  85,  48,  35,  82,  21,  24,  81,  25,\n",
       "        37,  23, 100,  28,  84,  80,  87,  86,  94,  31,  88,  95,  93,\n",
       "        91,  92,  98, 101,  97,  99], dtype=int64)"
      ]
     },
     "execution_count": 25,
     "metadata": {},
     "output_type": "execute_result"
    }
   ],
   "source": [
    "#Here we are printing every every records with the unique age.\n",
    "profile.age.unique()"
   ]
  },
  {
   "cell_type": "code",
   "execution_count": 26,
   "metadata": {},
   "outputs": [
    {
     "data": {
      "text/plain": [
       "array(['F', 'M', 'O'], dtype=object)"
      ]
     },
     "execution_count": 26,
     "metadata": {},
     "output_type": "execute_result"
    }
   ],
   "source": [
    "#Here we are checking unique values in gender columns.\n",
    "#There are Male, Female, null values and some values with O\n",
    "\n",
    "profile.gender.unique()"
   ]
  },
  {
   "cell_type": "code",
   "execution_count": 27,
   "metadata": {},
   "outputs": [],
   "source": [
    "profile.loc[profile['gender'] == 'O', 'gender'] = np.nan"
   ]
  },
  {
   "cell_type": "code",
   "execution_count": 28,
   "metadata": {},
   "outputs": [],
   "source": [
    "# we are dropping null values present in gender columns\n",
    "profile = profile.dropna(subset=['gender'])"
   ]
  },
  {
   "cell_type": "code",
   "execution_count": 29,
   "metadata": {},
   "outputs": [],
   "source": [
    "# Here we are using lambda function to convert the Gender.\n",
    "# HEre we are putting 1 for Male and 0 for female.\n",
    "\n",
    "profile['gender'] = profile['gender'].apply(lambda x: 1 if x == 'M' else 0)"
   ]
  },
  {
   "cell_type": "code",
   "execution_count": 30,
   "metadata": {},
   "outputs": [],
   "source": [
    "# Here we are making became_member_on column more readable. \n",
    "# as we need year and month for the Analysis, so we are converting into proper readable formate.\n",
    "# we are using %Y%m%d format\n",
    "\n",
    "profile.became_member_on = profile['became_member_on'].astype(str).astype('datetime64[ns]', format(\"%Y%m%d\"))"
   ]
  },
  {
   "cell_type": "code",
   "execution_count": 31,
   "metadata": {},
   "outputs": [],
   "source": [
    "# Here we are adding new column in our dataframe profile\n",
    "# we are adding start_year and start_month column\n",
    "\n",
    "profile['start_year'] = profile.became_member_on.dt.year\n",
    "profile[\"start_month\"] = profile.became_member_on.dt.month"
   ]
  },
  {
   "cell_type": "code",
   "execution_count": 32,
   "metadata": {},
   "outputs": [],
   "source": [
    "# profile: rename id col name customer_id.\n",
    "\n",
    "profile.rename(columns={'id': 'customer_id'}, inplace=True)"
   ]
  },
  {
   "cell_type": "code",
   "execution_count": 33,
   "metadata": {},
   "outputs": [
    {
     "data": {
      "text/html": [
       "<div>\n",
       "<style scoped>\n",
       "    .dataframe tbody tr th:only-of-type {\n",
       "        vertical-align: middle;\n",
       "    }\n",
       "\n",
       "    .dataframe tbody tr th {\n",
       "        vertical-align: top;\n",
       "    }\n",
       "\n",
       "    .dataframe thead th {\n",
       "        text-align: right;\n",
       "    }\n",
       "</style>\n",
       "<table border=\"1\" class=\"dataframe\">\n",
       "  <thead>\n",
       "    <tr style=\"text-align: right;\">\n",
       "      <th></th>\n",
       "      <th>gender</th>\n",
       "      <th>age</th>\n",
       "      <th>customer_id</th>\n",
       "      <th>became_member_on</th>\n",
       "      <th>income</th>\n",
       "      <th>start_year</th>\n",
       "      <th>start_month</th>\n",
       "    </tr>\n",
       "  </thead>\n",
       "  <tbody>\n",
       "    <tr>\n",
       "      <th>1</th>\n",
       "      <td>0</td>\n",
       "      <td>55</td>\n",
       "      <td>0610b486422d4921ae7d2bf64640c50b</td>\n",
       "      <td>2017-07-15</td>\n",
       "      <td>112000.0</td>\n",
       "      <td>2017</td>\n",
       "      <td>7</td>\n",
       "    </tr>\n",
       "    <tr>\n",
       "      <th>3</th>\n",
       "      <td>0</td>\n",
       "      <td>75</td>\n",
       "      <td>78afa995795e4d85b5d9ceeca43f5fef</td>\n",
       "      <td>2017-05-09</td>\n",
       "      <td>100000.0</td>\n",
       "      <td>2017</td>\n",
       "      <td>5</td>\n",
       "    </tr>\n",
       "    <tr>\n",
       "      <th>5</th>\n",
       "      <td>1</td>\n",
       "      <td>68</td>\n",
       "      <td>e2127556f4f64592b11af22de27a7932</td>\n",
       "      <td>2018-04-26</td>\n",
       "      <td>70000.0</td>\n",
       "      <td>2018</td>\n",
       "      <td>4</td>\n",
       "    </tr>\n",
       "    <tr>\n",
       "      <th>8</th>\n",
       "      <td>1</td>\n",
       "      <td>65</td>\n",
       "      <td>389bc3fa690240e798340f5a15918d5c</td>\n",
       "      <td>2018-02-09</td>\n",
       "      <td>53000.0</td>\n",
       "      <td>2018</td>\n",
       "      <td>2</td>\n",
       "    </tr>\n",
       "    <tr>\n",
       "      <th>12</th>\n",
       "      <td>1</td>\n",
       "      <td>58</td>\n",
       "      <td>2eeac8d8feae4a8cad5a6af0499a211d</td>\n",
       "      <td>2017-11-11</td>\n",
       "      <td>51000.0</td>\n",
       "      <td>2017</td>\n",
       "      <td>11</td>\n",
       "    </tr>\n",
       "  </tbody>\n",
       "</table>\n",
       "</div>"
      ],
      "text/plain": [
       "    gender  age                       customer_id became_member_on    income  \\\n",
       "1        0   55  0610b486422d4921ae7d2bf64640c50b       2017-07-15  112000.0   \n",
       "3        0   75  78afa995795e4d85b5d9ceeca43f5fef       2017-05-09  100000.0   \n",
       "5        1   68  e2127556f4f64592b11af22de27a7932       2018-04-26   70000.0   \n",
       "8        1   65  389bc3fa690240e798340f5a15918d5c       2018-02-09   53000.0   \n",
       "12       1   58  2eeac8d8feae4a8cad5a6af0499a211d       2017-11-11   51000.0   \n",
       "\n",
       "    start_year  start_month  \n",
       "1         2017            7  \n",
       "3         2017            5  \n",
       "5         2018            4  \n",
       "8         2018            2  \n",
       "12        2017           11  "
      ]
     },
     "execution_count": 33,
     "metadata": {},
     "output_type": "execute_result"
    }
   ],
   "source": [
    "profile.head()"
   ]
  },
  {
   "cell_type": "markdown",
   "metadata": {},
   "source": [
    "# cleaning transcript dataset"
   ]
  },
  {
   "cell_type": "code",
   "execution_count": 34,
   "metadata": {},
   "outputs": [],
   "source": [
    "transcript = pd.read_csv('C:\\\\Users\\\\Drumil Patel\\\\Desktop\\\\Capstone\\\\transcript.csv')"
   ]
  },
  {
   "cell_type": "code",
   "execution_count": 35,
   "metadata": {},
   "outputs": [
    {
     "data": {
      "text/html": [
       "<div>\n",
       "<style scoped>\n",
       "    .dataframe tbody tr th:only-of-type {\n",
       "        vertical-align: middle;\n",
       "    }\n",
       "\n",
       "    .dataframe tbody tr th {\n",
       "        vertical-align: top;\n",
       "    }\n",
       "\n",
       "    .dataframe thead th {\n",
       "        text-align: right;\n",
       "    }\n",
       "</style>\n",
       "<table border=\"1\" class=\"dataframe\">\n",
       "  <thead>\n",
       "    <tr style=\"text-align: right;\">\n",
       "      <th></th>\n",
       "      <th>Unnamed: 0</th>\n",
       "      <th>person</th>\n",
       "      <th>event</th>\n",
       "      <th>value</th>\n",
       "      <th>time</th>\n",
       "    </tr>\n",
       "  </thead>\n",
       "  <tbody>\n",
       "    <tr>\n",
       "      <th>0</th>\n",
       "      <td>0</td>\n",
       "      <td>78afa995795e4d85b5d9ceeca43f5fef</td>\n",
       "      <td>offer received</td>\n",
       "      <td>{'offer id': '9b98b8c7a33c4b65b9aebfe6a799e6d9'}</td>\n",
       "      <td>0</td>\n",
       "    </tr>\n",
       "    <tr>\n",
       "      <th>1</th>\n",
       "      <td>1</td>\n",
       "      <td>a03223e636434f42ac4c3df47e8bac43</td>\n",
       "      <td>offer received</td>\n",
       "      <td>{'offer id': '0b1e1539f2cc45b7b9fa7c272da2e1d7'}</td>\n",
       "      <td>0</td>\n",
       "    </tr>\n",
       "    <tr>\n",
       "      <th>2</th>\n",
       "      <td>2</td>\n",
       "      <td>e2127556f4f64592b11af22de27a7932</td>\n",
       "      <td>offer received</td>\n",
       "      <td>{'offer id': '2906b810c7d4411798c6938adc9daaa5'}</td>\n",
       "      <td>0</td>\n",
       "    </tr>\n",
       "    <tr>\n",
       "      <th>3</th>\n",
       "      <td>3</td>\n",
       "      <td>8ec6ce2a7e7949b1bf142def7d0e0586</td>\n",
       "      <td>offer received</td>\n",
       "      <td>{'offer id': 'fafdcd668e3743c1bb461111dcafc2a4'}</td>\n",
       "      <td>0</td>\n",
       "    </tr>\n",
       "    <tr>\n",
       "      <th>4</th>\n",
       "      <td>4</td>\n",
       "      <td>68617ca6246f4fbc85e91a2a49552598</td>\n",
       "      <td>offer received</td>\n",
       "      <td>{'offer id': '4d5c57ea9a6940dd891ad53e9dbe8da0'}</td>\n",
       "      <td>0</td>\n",
       "    </tr>\n",
       "  </tbody>\n",
       "</table>\n",
       "</div>"
      ],
      "text/plain": [
       "   Unnamed: 0                            person           event  \\\n",
       "0           0  78afa995795e4d85b5d9ceeca43f5fef  offer received   \n",
       "1           1  a03223e636434f42ac4c3df47e8bac43  offer received   \n",
       "2           2  e2127556f4f64592b11af22de27a7932  offer received   \n",
       "3           3  8ec6ce2a7e7949b1bf142def7d0e0586  offer received   \n",
       "4           4  68617ca6246f4fbc85e91a2a49552598  offer received   \n",
       "\n",
       "                                              value  time  \n",
       "0  {'offer id': '9b98b8c7a33c4b65b9aebfe6a799e6d9'}     0  \n",
       "1  {'offer id': '0b1e1539f2cc45b7b9fa7c272da2e1d7'}     0  \n",
       "2  {'offer id': '2906b810c7d4411798c6938adc9daaa5'}     0  \n",
       "3  {'offer id': 'fafdcd668e3743c1bb461111dcafc2a4'}     0  \n",
       "4  {'offer id': '4d5c57ea9a6940dd891ad53e9dbe8da0'}     0  "
      ]
     },
     "execution_count": 35,
     "metadata": {},
     "output_type": "execute_result"
    }
   ],
   "source": [
    "transcript.head()"
   ]
  },
  {
   "cell_type": "code",
   "execution_count": 36,
   "metadata": {},
   "outputs": [
    {
     "name": "stdout",
     "output_type": "stream",
     "text": [
      "<class 'pandas.core.frame.DataFrame'>\n",
      "RangeIndex: 306534 entries, 0 to 306533\n",
      "Data columns (total 5 columns):\n",
      " #   Column      Non-Null Count   Dtype \n",
      "---  ------      --------------   ----- \n",
      " 0   Unnamed: 0  306534 non-null  int64 \n",
      " 1   person      306534 non-null  object\n",
      " 2   event       306534 non-null  object\n",
      " 3   value       306534 non-null  object\n",
      " 4   time        306534 non-null  int64 \n",
      "dtypes: int64(2), object(3)\n",
      "memory usage: 11.7+ MB\n"
     ]
    }
   ],
   "source": [
    "transcript.info()"
   ]
  },
  {
   "cell_type": "code",
   "execution_count": 37,
   "metadata": {},
   "outputs": [
    {
     "data": {
      "text/plain": [
       "array(['offer received', 'offer viewed', 'transaction', 'offer completed'],\n",
       "      dtype=object)"
      ]
     },
     "execution_count": 37,
     "metadata": {},
     "output_type": "execute_result"
    }
   ],
   "source": [
    "transcript['event'].unique()"
   ]
  },
  {
   "cell_type": "code",
   "execution_count": 38,
   "metadata": {},
   "outputs": [],
   "source": [
    "# rename person column  to customer_id.\n",
    "transcript.rename(columns={'person': 'customer_id'}, inplace=True)"
   ]
  },
  {
   "cell_type": "code",
   "execution_count": 39,
   "metadata": {},
   "outputs": [],
   "source": [
    "# rename value columns to offer_id.\n",
    "transcript.rename(columns={'value': 'offer_id'}, inplace=True)"
   ]
  },
  {
   "cell_type": "code",
   "execution_count": 40,
   "metadata": {},
   "outputs": [],
   "source": [
    "#creating the new column named amount \n",
    "transcript['amount'] = 0\n",
    "# change amount column type to float\n",
    "transcript.amount.astype('float')\n",
    "#extracting amount from offer id\n",
    "transcript['amount'] = transcript.offer_id.str.extract('(\\d+\\.\\d+)')"
   ]
  },
  {
   "cell_type": "code",
   "execution_count": 41,
   "metadata": {},
   "outputs": [],
   "source": [
    "# transcript: drop transaction rows whose customer_id is not in profile:customer_id\n",
    "transcript = transcript[transcript.customer_id.isin(profile.customer_id)]"
   ]
  },
  {
   "cell_type": "code",
   "execution_count": 42,
   "metadata": {},
   "outputs": [],
   "source": [
    "# convert time into 24 hours format\n",
    "transcript['time'] /= 24.0"
   ]
  },
  {
   "cell_type": "code",
   "execution_count": 43,
   "metadata": {},
   "outputs": [],
   "source": [
    "# drop the duplicated value, and reset the index\n",
    "transcript.drop_duplicates(inplace=True)\n",
    "\n",
    "transcript.reset_index(drop=True, inplace=True)"
   ]
  },
  {
   "cell_type": "code",
   "execution_count": 44,
   "metadata": {},
   "outputs": [
    {
     "data": {
      "text/html": [
       "<div>\n",
       "<style scoped>\n",
       "    .dataframe tbody tr th:only-of-type {\n",
       "        vertical-align: middle;\n",
       "    }\n",
       "\n",
       "    .dataframe tbody tr th {\n",
       "        vertical-align: top;\n",
       "    }\n",
       "\n",
       "    .dataframe thead th {\n",
       "        text-align: right;\n",
       "    }\n",
       "</style>\n",
       "<table border=\"1\" class=\"dataframe\">\n",
       "  <thead>\n",
       "    <tr style=\"text-align: right;\">\n",
       "      <th></th>\n",
       "      <th>customer_id</th>\n",
       "      <th>offer_id</th>\n",
       "      <th>time</th>\n",
       "      <th>amount</th>\n",
       "    </tr>\n",
       "  </thead>\n",
       "  <tbody>\n",
       "    <tr>\n",
       "      <th>10865</th>\n",
       "      <td>02c083884c7d45b39cc68e1314fec56c</td>\n",
       "      <td>{'amount': 0.8300000000000001}</td>\n",
       "      <td>0.00</td>\n",
       "      <td>0.8300000000000001</td>\n",
       "    </tr>\n",
       "    <tr>\n",
       "      <th>10868</th>\n",
       "      <td>9fa9ae8f57894cc9a3b8a9bbe0fc1b2f</td>\n",
       "      <td>{'amount': 34.56}</td>\n",
       "      <td>0.00</td>\n",
       "      <td>34.56</td>\n",
       "    </tr>\n",
       "    <tr>\n",
       "      <th>10870</th>\n",
       "      <td>54890f68699049c2a04d415abc25e717</td>\n",
       "      <td>{'amount': 13.23}</td>\n",
       "      <td>0.00</td>\n",
       "      <td>13.23</td>\n",
       "    </tr>\n",
       "    <tr>\n",
       "      <th>10878</th>\n",
       "      <td>b2f1cd155b864803ad8334cdf13c4bd2</td>\n",
       "      <td>{'amount': 19.51}</td>\n",
       "      <td>0.00</td>\n",
       "      <td>19.51</td>\n",
       "    </tr>\n",
       "    <tr>\n",
       "      <th>10879</th>\n",
       "      <td>fe97aa22dd3e48c8b143116a8403dd52</td>\n",
       "      <td>{'amount': 18.97}</td>\n",
       "      <td>0.00</td>\n",
       "      <td>18.97</td>\n",
       "    </tr>\n",
       "    <tr>\n",
       "      <th>...</th>\n",
       "      <td>...</td>\n",
       "      <td>...</td>\n",
       "      <td>...</td>\n",
       "      <td>...</td>\n",
       "    </tr>\n",
       "    <tr>\n",
       "      <th>268785</th>\n",
       "      <td>24f56b5e1849462093931b164eb803b5</td>\n",
       "      <td>{'amount': 22.64}</td>\n",
       "      <td>29.75</td>\n",
       "      <td>22.64</td>\n",
       "    </tr>\n",
       "    <tr>\n",
       "      <th>268787</th>\n",
       "      <td>b3a1272bc9904337b331bf348c3e8c17</td>\n",
       "      <td>{'amount': 1.5899999999999999}</td>\n",
       "      <td>29.75</td>\n",
       "      <td>1.5899999999999999</td>\n",
       "    </tr>\n",
       "    <tr>\n",
       "      <th>268788</th>\n",
       "      <td>68213b08d99a4ae1b0dcb72aebd9aa35</td>\n",
       "      <td>{'amount': 9.53}</td>\n",
       "      <td>29.75</td>\n",
       "      <td>9.53</td>\n",
       "    </tr>\n",
       "    <tr>\n",
       "      <th>268789</th>\n",
       "      <td>a00058cf10334a308c68e7631c529907</td>\n",
       "      <td>{'amount': 3.61}</td>\n",
       "      <td>29.75</td>\n",
       "      <td>3.61</td>\n",
       "    </tr>\n",
       "    <tr>\n",
       "      <th>268790</th>\n",
       "      <td>76ddbd6576844afe811f1a3c0fbb5bec</td>\n",
       "      <td>{'amount': 3.5300000000000002}</td>\n",
       "      <td>29.75</td>\n",
       "      <td>3.5300000000000002</td>\n",
       "    </tr>\n",
       "  </tbody>\n",
       "</table>\n",
       "<p>122176 rows × 4 columns</p>\n",
       "</div>"
      ],
      "text/plain": [
       "                             customer_id                        offer_id  \\\n",
       "10865   02c083884c7d45b39cc68e1314fec56c  {'amount': 0.8300000000000001}   \n",
       "10868   9fa9ae8f57894cc9a3b8a9bbe0fc1b2f               {'amount': 34.56}   \n",
       "10870   54890f68699049c2a04d415abc25e717               {'amount': 13.23}   \n",
       "10878   b2f1cd155b864803ad8334cdf13c4bd2               {'amount': 19.51}   \n",
       "10879   fe97aa22dd3e48c8b143116a8403dd52               {'amount': 18.97}   \n",
       "...                                  ...                             ...   \n",
       "268785  24f56b5e1849462093931b164eb803b5               {'amount': 22.64}   \n",
       "268787  b3a1272bc9904337b331bf348c3e8c17  {'amount': 1.5899999999999999}   \n",
       "268788  68213b08d99a4ae1b0dcb72aebd9aa35                {'amount': 9.53}   \n",
       "268789  a00058cf10334a308c68e7631c529907                {'amount': 3.61}   \n",
       "268790  76ddbd6576844afe811f1a3c0fbb5bec  {'amount': 3.5300000000000002}   \n",
       "\n",
       "         time              amount  \n",
       "10865    0.00  0.8300000000000001  \n",
       "10868    0.00               34.56  \n",
       "10870    0.00               13.23  \n",
       "10878    0.00               19.51  \n",
       "10879    0.00               18.97  \n",
       "...       ...                 ...  \n",
       "268785  29.75               22.64  \n",
       "268787  29.75  1.5899999999999999  \n",
       "268788  29.75                9.53  \n",
       "268789  29.75                3.61  \n",
       "268790  29.75  3.5300000000000002  \n",
       "\n",
       "[122176 rows x 4 columns]"
      ]
     },
     "execution_count": 44,
     "metadata": {},
     "output_type": "execute_result"
    }
   ],
   "source": [
    "# transcript: segregate  offer and transaction data \n",
    "\n",
    "# extract transactions from transcript data\n",
    "transaction_df = transcript[transcript.event=='transaction'].copy()\n",
    "transaction_df.drop(columns=['event','Unnamed: 0'], inplace=True)\n",
    "transaction_df"
   ]
  },
  {
   "cell_type": "code",
   "execution_count": 45,
   "metadata": {},
   "outputs": [],
   "source": [
    "# transcript:  separate offer and transaction data \n",
    "\n",
    "# extract offer-related from transcript data\n",
    "offers_df = transcript[transcript.event!='transaction'].copy()\n",
    "\n",
    "# one-hot encode offer event\n",
    "offers_df['received'] = offers_df.event.apply(lambda x: 1 if x == 'offer received' else 0)\n",
    "offers_df['completed'] = offers_df.event.apply(lambda x: 1 if x == 'offer completed' else 0)\n",
    "offers_df['viewed'] = offers_df.event.apply(lambda x: 1 if x == 'offer viewed' else 0)\n",
    "\n",
    "\n",
    "offers_df.drop(columns=['event', 'amount'], inplace=True)"
   ]
  },
  {
   "cell_type": "code",
   "execution_count": 46,
   "metadata": {},
   "outputs": [
    {
     "data": {
      "text/plain": [
       "transaction        122176\n",
       "offer received      65585\n",
       "offer viewed        49087\n",
       "offer completed     31943\n",
       "Name: event, dtype: int64"
      ]
     },
     "execution_count": 46,
     "metadata": {},
     "output_type": "execute_result"
    }
   ],
   "source": [
    "transcript.event.value_counts()"
   ]
  },
  {
   "cell_type": "code",
   "execution_count": 47,
   "metadata": {},
   "outputs": [
    {
     "data": {
      "text/plain": [
       "(49087, 31943, 65585)"
      ]
     },
     "execution_count": 47,
     "metadata": {},
     "output_type": "execute_result"
    }
   ],
   "source": [
    "offers_df.viewed.sum(), offers_df.completed.sum(), offers_df.received.sum()"
   ]
  },
  {
   "cell_type": "code",
   "execution_count": 48,
   "metadata": {},
   "outputs": [
    {
     "data": {
      "text/html": [
       "<div>\n",
       "<style scoped>\n",
       "    .dataframe tbody tr th:only-of-type {\n",
       "        vertical-align: middle;\n",
       "    }\n",
       "\n",
       "    .dataframe tbody tr th {\n",
       "        vertical-align: top;\n",
       "    }\n",
       "\n",
       "    .dataframe thead th {\n",
       "        text-align: right;\n",
       "    }\n",
       "</style>\n",
       "<table border=\"1\" class=\"dataframe\">\n",
       "  <thead>\n",
       "    <tr style=\"text-align: right;\">\n",
       "      <th></th>\n",
       "      <th>Unnamed: 0</th>\n",
       "      <th>customer_id</th>\n",
       "      <th>offer_id</th>\n",
       "      <th>time</th>\n",
       "      <th>received</th>\n",
       "      <th>completed</th>\n",
       "      <th>viewed</th>\n",
       "    </tr>\n",
       "  </thead>\n",
       "  <tbody>\n",
       "    <tr>\n",
       "      <th>0</th>\n",
       "      <td>0</td>\n",
       "      <td>78afa995795e4d85b5d9ceeca43f5fef</td>\n",
       "      <td>{'offer id': '9b98b8c7a33c4b65b9aebfe6a799e6d9'}</td>\n",
       "      <td>0.0</td>\n",
       "      <td>1</td>\n",
       "      <td>0</td>\n",
       "      <td>0</td>\n",
       "    </tr>\n",
       "    <tr>\n",
       "      <th>1</th>\n",
       "      <td>2</td>\n",
       "      <td>e2127556f4f64592b11af22de27a7932</td>\n",
       "      <td>{'offer id': '2906b810c7d4411798c6938adc9daaa5'}</td>\n",
       "      <td>0.0</td>\n",
       "      <td>1</td>\n",
       "      <td>0</td>\n",
       "      <td>0</td>\n",
       "    </tr>\n",
       "    <tr>\n",
       "      <th>2</th>\n",
       "      <td>5</td>\n",
       "      <td>389bc3fa690240e798340f5a15918d5c</td>\n",
       "      <td>{'offer id': 'f19421c1d4aa40978ebb69ca19b0e20d'}</td>\n",
       "      <td>0.0</td>\n",
       "      <td>1</td>\n",
       "      <td>0</td>\n",
       "      <td>0</td>\n",
       "    </tr>\n",
       "    <tr>\n",
       "      <th>3</th>\n",
       "      <td>7</td>\n",
       "      <td>2eeac8d8feae4a8cad5a6af0499a211d</td>\n",
       "      <td>{'offer id': '3f207df678b143eea3cee63160fa8bed'}</td>\n",
       "      <td>0.0</td>\n",
       "      <td>1</td>\n",
       "      <td>0</td>\n",
       "      <td>0</td>\n",
       "    </tr>\n",
       "    <tr>\n",
       "      <th>4</th>\n",
       "      <td>8</td>\n",
       "      <td>aa4862eba776480b8bb9c68455b8c2e1</td>\n",
       "      <td>{'offer id': '0b1e1539f2cc45b7b9fa7c272da2e1d7'}</td>\n",
       "      <td>0.0</td>\n",
       "      <td>1</td>\n",
       "      <td>0</td>\n",
       "      <td>0</td>\n",
       "    </tr>\n",
       "  </tbody>\n",
       "</table>\n",
       "</div>"
      ],
      "text/plain": [
       "   Unnamed: 0                       customer_id  \\\n",
       "0           0  78afa995795e4d85b5d9ceeca43f5fef   \n",
       "1           2  e2127556f4f64592b11af22de27a7932   \n",
       "2           5  389bc3fa690240e798340f5a15918d5c   \n",
       "3           7  2eeac8d8feae4a8cad5a6af0499a211d   \n",
       "4           8  aa4862eba776480b8bb9c68455b8c2e1   \n",
       "\n",
       "                                           offer_id  time  received  \\\n",
       "0  {'offer id': '9b98b8c7a33c4b65b9aebfe6a799e6d9'}   0.0         1   \n",
       "1  {'offer id': '2906b810c7d4411798c6938adc9daaa5'}   0.0         1   \n",
       "2  {'offer id': 'f19421c1d4aa40978ebb69ca19b0e20d'}   0.0         1   \n",
       "3  {'offer id': '3f207df678b143eea3cee63160fa8bed'}   0.0         1   \n",
       "4  {'offer id': '0b1e1539f2cc45b7b9fa7c272da2e1d7'}   0.0         1   \n",
       "\n",
       "   completed  viewed  \n",
       "0          0       0  \n",
       "1          0       0  \n",
       "2          0       0  \n",
       "3          0       0  \n",
       "4          0       0  "
      ]
     },
     "execution_count": 48,
     "metadata": {},
     "output_type": "execute_result"
    }
   ],
   "source": [
    "offers_df.head()"
   ]
  },
  {
   "cell_type": "markdown",
   "metadata": {},
   "source": [
    "# Here now we are merging all dataframe (offers_df, portfolio, profile, transcript)"
   ]
  },
  {
   "cell_type": "code",
   "execution_count": 49,
   "metadata": {},
   "outputs": [],
   "source": [
    "\n",
    "def combine_data(profile, portfolio, offers_df, transaction_df):\n",
    "    data = []\n",
    "    customer_ids = offers_df['customer_id'].unique()\n",
    "    \n",
    "    widgets=[\n",
    "        ' [', progressbar.Timer(), '] ',\n",
    "        progressbar.Bar(),\n",
    "        ' (', progressbar.ETA(), ') ',\n",
    "    ]\n",
    "    \n",
    "    # loop through all customer ids in offers_df\n",
    "    for ind in progressbar.progressbar(range(len(customer_ids)), widgets=widgets):\n",
    "        \n",
    "        # get customer id from the list\n",
    "        cust_id = customer_ids[ind]\n",
    "        \n",
    "        # extract customer profile from profile data\n",
    "        customer = profile[profile['customer_id']==cust_id]\n",
    "        \n",
    "        # extract offers associated with the customer from offers_df\n",
    "        cust_offer_data = offers_df[offers_df['customer_id']==cust_id]\n",
    "        \n",
    "        # extract transactions associated with the customer from transactions_df\n",
    "        cust_transaction_data = transaction_df[transaction_df['customer_id']==cust_id]\n",
    "        \n",
    "        # extract received, completed, viewed offer data from customer offers\n",
    "        offer_received_data = cust_offer_data[cust_offer_data['received'] == 1]\n",
    "        offer_completed_data = cust_offer_data[cust_offer_data['completed'] == 1]\n",
    "        offer_viewed_data = cust_offer_data[cust_offer_data['viewed'] == 1]\n",
    "        rows = []\n",
    "        # loop through each received offer\n",
    "        for i in range(offer_received_data.shape[0]):\n",
    "        \n",
    "            # fetch an offer id \n",
    "            offer_id = offer_received_data.iloc[i]['offer_id']\n",
    "            \n",
    "            # extract offer row from portfolio\n",
    "            offer_row = portfolio\n",
    "            \n",
    "            \n",
    "            # extract duration days of an offer from offer row\n",
    "            duration_days = offer_row['duration'].values[0]\n",
    "            \n",
    "            # initialize start and end time of an offer\n",
    "            start_time = offer_received_data.iloc[i]['time']\n",
    "            end_time = start_time + duration_days\n",
    "        \n",
    "            # seggregate offers completed within end date\n",
    "            off_completed_withintime = np.logical_and(\n",
    "                offer_completed_data['time'] >= start_time, offer_completed_data['time'] <= end_time)\n",
    "            \n",
    "            # seggregate offers viewed within end date\n",
    "            off_viewed_withintime = np.logical_and(\n",
    "                offer_viewed_data['time'] >= start_time, offer_viewed_data['time'] <=end_time)\n",
    "\n",
    "            # flag offer_successful to 1 if an offer is viewed and completed within end time else to 0\n",
    "            offer_successful = off_completed_withintime.sum() > 0 and off_viewed_withintime.sum() > 0\n",
    "            \n",
    "            # extract transactions occured within time\n",
    "            transaction_withintime = np.logical_and(\n",
    "                cust_transaction_data['time'] >= start_time, cust_transaction_data['time'] <= end_time)\n",
    "        \n",
    "            transaction_data = cust_transaction_data[transaction_withintime]\n",
    "            \n",
    "            # total amount spent by a customer from given offers\n",
    "            transaction_total_amount = transcript['amount']\n",
    "            \n",
    "            row = {\n",
    "                #'offer_id': offer_id,\n",
    "                'customer_id': cust_id,\n",
    "                'time': start_time,\n",
    "                'total_amount': transaction_total_amount,\n",
    "                'offer_successful': int(offer_successful),\n",
    "            }\n",
    "                \n",
    "            row.update(offer_row.iloc[0,0:].to_dict())\n",
    "\n",
    "            row.update(customer.iloc[0,:].to_dict())\n",
    "\n",
    "            rows.append(row)\n",
    "        \n",
    "        data.extend(rows)\n",
    "    \n",
    "    data = pd.DataFrame(data)\n",
    "    return data"
   ]
  },
  {
   "cell_type": "code",
   "execution_count": 50,
   "metadata": {},
   "outputs": [
    {
     "name": "stderr",
     "output_type": "stream",
     "text": [
      " [Elapsed Time: 0:06:27] |##################################| (Time:  0:06:27) \n"
     ]
    }
   ],
   "source": [
    "data = combine_data(profile, portfolio, offers_df, transaction_df)"
   ]
  },
  {
   "cell_type": "code",
   "execution_count": 51,
   "metadata": {},
   "outputs": [],
   "source": [
    "data.to_csv('master_offer_analysis.csv', index=False)"
   ]
  },
  {
   "cell_type": "markdown",
   "metadata": {},
   "source": [
    "# visualization"
   ]
  },
  {
   "cell_type": "code",
   "execution_count": 52,
   "metadata": {},
   "outputs": [],
   "source": [
    "clean_dataframe = pd.read_csv('master_offer_analysis.csv')"
   ]
  },
  {
   "cell_type": "code",
   "execution_count": 53,
   "metadata": {},
   "outputs": [
    {
     "data": {
      "text/html": [
       "<div>\n",
       "<style scoped>\n",
       "    .dataframe tbody tr th:only-of-type {\n",
       "        vertical-align: middle;\n",
       "    }\n",
       "\n",
       "    .dataframe tbody tr th {\n",
       "        vertical-align: top;\n",
       "    }\n",
       "\n",
       "    .dataframe thead th {\n",
       "        text-align: right;\n",
       "    }\n",
       "</style>\n",
       "<table border=\"1\" class=\"dataframe\">\n",
       "  <thead>\n",
       "    <tr style=\"text-align: right;\">\n",
       "      <th></th>\n",
       "      <th>customer_id</th>\n",
       "      <th>time</th>\n",
       "      <th>total_amount</th>\n",
       "      <th>offer_successful</th>\n",
       "      <th>reward</th>\n",
       "      <th>channels</th>\n",
       "      <th>difficulty</th>\n",
       "      <th>duration</th>\n",
       "      <th>offer_type</th>\n",
       "      <th>offer_id</th>\n",
       "      <th>gender</th>\n",
       "      <th>age</th>\n",
       "      <th>became_member_on</th>\n",
       "      <th>income</th>\n",
       "      <th>start_year</th>\n",
       "      <th>start_month</th>\n",
       "    </tr>\n",
       "  </thead>\n",
       "  <tbody>\n",
       "    <tr>\n",
       "      <th>0</th>\n",
       "      <td>78afa995795e4d85b5d9ceeca43f5fef</td>\n",
       "      <td>0.0</td>\n",
       "      <td>0                        NaN\\n1               ...</td>\n",
       "      <td>1</td>\n",
       "      <td>10</td>\n",
       "      <td>['email', 'mobile', 'social']</td>\n",
       "      <td>10</td>\n",
       "      <td>7</td>\n",
       "      <td>bogo</td>\n",
       "      <td>ae264e3637204a6fb9bb56bc8210ddfd</td>\n",
       "      <td>0</td>\n",
       "      <td>75</td>\n",
       "      <td>2017-05-09</td>\n",
       "      <td>100000.0</td>\n",
       "      <td>2017</td>\n",
       "      <td>5</td>\n",
       "    </tr>\n",
       "    <tr>\n",
       "      <th>1</th>\n",
       "      <td>78afa995795e4d85b5d9ceeca43f5fef</td>\n",
       "      <td>7.0</td>\n",
       "      <td>0                        NaN\\n1               ...</td>\n",
       "      <td>0</td>\n",
       "      <td>10</td>\n",
       "      <td>['email', 'mobile', 'social']</td>\n",
       "      <td>10</td>\n",
       "      <td>7</td>\n",
       "      <td>bogo</td>\n",
       "      <td>ae264e3637204a6fb9bb56bc8210ddfd</td>\n",
       "      <td>0</td>\n",
       "      <td>75</td>\n",
       "      <td>2017-05-09</td>\n",
       "      <td>100000.0</td>\n",
       "      <td>2017</td>\n",
       "      <td>5</td>\n",
       "    </tr>\n",
       "    <tr>\n",
       "      <th>2</th>\n",
       "      <td>78afa995795e4d85b5d9ceeca43f5fef</td>\n",
       "      <td>17.0</td>\n",
       "      <td>0                        NaN\\n1               ...</td>\n",
       "      <td>1</td>\n",
       "      <td>10</td>\n",
       "      <td>['email', 'mobile', 'social']</td>\n",
       "      <td>10</td>\n",
       "      <td>7</td>\n",
       "      <td>bogo</td>\n",
       "      <td>ae264e3637204a6fb9bb56bc8210ddfd</td>\n",
       "      <td>0</td>\n",
       "      <td>75</td>\n",
       "      <td>2017-05-09</td>\n",
       "      <td>100000.0</td>\n",
       "      <td>2017</td>\n",
       "      <td>5</td>\n",
       "    </tr>\n",
       "    <tr>\n",
       "      <th>3</th>\n",
       "      <td>78afa995795e4d85b5d9ceeca43f5fef</td>\n",
       "      <td>21.0</td>\n",
       "      <td>0                        NaN\\n1               ...</td>\n",
       "      <td>1</td>\n",
       "      <td>10</td>\n",
       "      <td>['email', 'mobile', 'social']</td>\n",
       "      <td>10</td>\n",
       "      <td>7</td>\n",
       "      <td>bogo</td>\n",
       "      <td>ae264e3637204a6fb9bb56bc8210ddfd</td>\n",
       "      <td>0</td>\n",
       "      <td>75</td>\n",
       "      <td>2017-05-09</td>\n",
       "      <td>100000.0</td>\n",
       "      <td>2017</td>\n",
       "      <td>5</td>\n",
       "    </tr>\n",
       "    <tr>\n",
       "      <th>4</th>\n",
       "      <td>e2127556f4f64592b11af22de27a7932</td>\n",
       "      <td>0.0</td>\n",
       "      <td>0                        NaN\\n1               ...</td>\n",
       "      <td>0</td>\n",
       "      <td>10</td>\n",
       "      <td>['email', 'mobile', 'social']</td>\n",
       "      <td>10</td>\n",
       "      <td>7</td>\n",
       "      <td>bogo</td>\n",
       "      <td>ae264e3637204a6fb9bb56bc8210ddfd</td>\n",
       "      <td>1</td>\n",
       "      <td>68</td>\n",
       "      <td>2018-04-26</td>\n",
       "      <td>70000.0</td>\n",
       "      <td>2018</td>\n",
       "      <td>4</td>\n",
       "    </tr>\n",
       "  </tbody>\n",
       "</table>\n",
       "</div>"
      ],
      "text/plain": [
       "                        customer_id  time  \\\n",
       "0  78afa995795e4d85b5d9ceeca43f5fef   0.0   \n",
       "1  78afa995795e4d85b5d9ceeca43f5fef   7.0   \n",
       "2  78afa995795e4d85b5d9ceeca43f5fef  17.0   \n",
       "3  78afa995795e4d85b5d9ceeca43f5fef  21.0   \n",
       "4  e2127556f4f64592b11af22de27a7932   0.0   \n",
       "\n",
       "                                        total_amount  offer_successful  \\\n",
       "0  0                        NaN\\n1               ...                 1   \n",
       "1  0                        NaN\\n1               ...                 0   \n",
       "2  0                        NaN\\n1               ...                 1   \n",
       "3  0                        NaN\\n1               ...                 1   \n",
       "4  0                        NaN\\n1               ...                 0   \n",
       "\n",
       "   reward                       channels  difficulty  duration offer_type  \\\n",
       "0      10  ['email', 'mobile', 'social']          10         7       bogo   \n",
       "1      10  ['email', 'mobile', 'social']          10         7       bogo   \n",
       "2      10  ['email', 'mobile', 'social']          10         7       bogo   \n",
       "3      10  ['email', 'mobile', 'social']          10         7       bogo   \n",
       "4      10  ['email', 'mobile', 'social']          10         7       bogo   \n",
       "\n",
       "                           offer_id  gender  age became_member_on    income  \\\n",
       "0  ae264e3637204a6fb9bb56bc8210ddfd       0   75       2017-05-09  100000.0   \n",
       "1  ae264e3637204a6fb9bb56bc8210ddfd       0   75       2017-05-09  100000.0   \n",
       "2  ae264e3637204a6fb9bb56bc8210ddfd       0   75       2017-05-09  100000.0   \n",
       "3  ae264e3637204a6fb9bb56bc8210ddfd       0   75       2017-05-09  100000.0   \n",
       "4  ae264e3637204a6fb9bb56bc8210ddfd       1   68       2018-04-26   70000.0   \n",
       "\n",
       "   start_year  start_month  \n",
       "0        2017            5  \n",
       "1        2017            5  \n",
       "2        2017            5  \n",
       "3        2017            5  \n",
       "4        2018            4  "
      ]
     },
     "execution_count": 53,
     "metadata": {},
     "output_type": "execute_result"
    }
   ],
   "source": [
    "clean_dataframe.head()"
   ]
  },
  {
   "cell_type": "code",
   "execution_count": 54,
   "metadata": {},
   "outputs": [],
   "source": [
    "X = clean_dataframe['gender']\n",
    "y = clean_dataframe['start_year']"
   ]
  },
  {
   "cell_type": "code",
   "execution_count": 55,
   "metadata": {},
   "outputs": [
    {
     "data": {
      "image/png": "[encoded data removed]",
      "text/plain": [
       "<Figure size 432x288 with 1 Axes>"
      ]
     },
     "metadata": {},
     "output_type": "display_data"
    }
   ],
   "source": [
    "#getting counts of Men and Women\n",
    "\n",
    "mylabels = [\"Male\", \"Female\"]\n",
    "mycolors = [\"yellow\", \"#4CAF50\"]\n",
    "Gender_count = clean_dataframe.gender.value_counts() \n",
    "plt.pie(Gender_count.values, \n",
    "        labels = mylabels, \n",
    "        autopct='%1.1f%%',\n",
    "        radius=1.9, \n",
    "        explode = [0.2,0], \n",
    "        shadow = True, \n",
    "        startangle = 90,\n",
    "        colors = mycolors)\n",
    "\n",
    "plt.legend(mylabels, loc = \"upper center\", bbox_to_anchor=(1.60, 1), ncol=1)\n",
    "plt.title('Number of Customer based on Gender', y = 1.5, fontsize = 30.0, fontweight='bold')\n",
    "plt.show()"
   ]
  },
  {
   "cell_type": "markdown",
   "metadata": {},
   "source": [
    "From above pie chart, we can say that mostly people comming in startbucks are men. However the difference between men and women is not huge."
   ]
  },
  {
   "cell_type": "code",
   "execution_count": 56,
   "metadata": {},
   "outputs": [
    {
     "data": {
      "image/png": "[encoded data removed]",
      "text/plain": [
       "<Figure size 1440x360 with 3 Axes>"
      ]
     },
     "metadata": {
      "needs_background": "light"
     },
     "output_type": "display_data"
    }
   ],
   "source": [
    "# to be able to draw three subplots in a row\n",
    "fig, ax = plt.subplots(figsize=(20, 5), nrows=1, ncols=3)\n",
    "\n",
    "# plot a age distribution in data\n",
    "plt.sca(ax[0])\n",
    "plt.hist(clean_dataframe['age'])\n",
    "plt.xlabel('Age')\n",
    "plt.ylabel('Count')\n",
    "plt.title('Age Distribution')\n",
    "\n",
    "# plot a income distribution in data\n",
    "plt.sca(ax[1])\n",
    "plt.hist(clean_dataframe['income'])\n",
    "plt.xlabel('Income')\n",
    "plt.ylabel('Count')\n",
    "plt.title('Income Distribution');\n",
    "\n",
    "# plot a start_year distribution\n",
    "plt.sca(ax[2])\n",
    "plt.hist(clean_dataframe['start_year'])\n",
    "plt.xlabel('start year')\n",
    "plt.ylabel('Count')\n",
    "plt.title('Membership distribution in terms of joining year');\n"
   ]
  },
  {
   "cell_type": "markdown",
   "metadata": {},
   "source": [
    " * From the Age distribution plot we can say that highest group of people comming in startbuck were belongs to age group of 40 to 70. \n",
    " * Income distribution graph shows that the number of customers whose average salary is less than 70K were comming in starbucks often compare to others. The reason behind this maybe this people have less salary are belongs to group 25 to 45.\n",
    " * Membership distribution has interesting results - 2017 has the highest registered customers than any starting from 2013. The plot also shows that there is an increasing trend in the number of registrations except for 2018."
   ]
  },
  {
   "cell_type": "markdown",
   "metadata": {},
   "source": [
    "# Income distribution as a function a gender"
   ]
  },
  {
   "cell_type": "code",
   "execution_count": 57,
   "metadata": {},
   "outputs": [
    {
     "data": {
      "text/plain": [
       "Text(0.5, 1.0, 'Female Customer Income')"
      ]
     },
     "execution_count": 57,
     "metadata": {},
     "output_type": "execute_result"
    },
    {
     "data": {
      "image/png": "[encoded data removed]",
      "text/plain": [
       "<Figure size 720x288 with 2 Axes>"
      ]
     },
     "metadata": {
      "needs_background": "light"
     },
     "output_type": "display_data"
    }
   ],
   "source": [
    "# extract male and female customers\n",
    "male_customers = clean_dataframe[clean_dataframe['gender'] == 1]\n",
    "female_customers = clean_dataframe[clean_dataframe['gender'] == 0]\n",
    "\n",
    "# to be able to draw two subplots in a row\n",
    "fig, ax = plt.subplots(figsize=(10, 4), nrows=1, ncols=2, sharex=True, sharey=True)\n",
    "\n",
    "# plot a male customers income distribution\n",
    "plt.sca(ax[0])\n",
    "sns.distplot(male_customers['income'])\n",
    "plt.xlabel('Income')\n",
    "plt.ylabel('Count')\n",
    "plt.title('Male Customer Income')\n",
    "\n",
    "# plot a female customers income distribution\n",
    "plt.sca(ax[1])\n",
    "sns.distplot(female_customers['income'])\n",
    "plt.xlabel('Income')\n",
    "plt.ylabel('Count')\n",
    "plt.title('Female Customer Income')"
   ]
  },
  {
   "cell_type": "markdown",
   "metadata": {},
   "source": [
    "Plots conclude that minimum and maximum income for both male and female are approximately same but the count of male customers in low-income level is slightly higher than that of female customers"
   ]
  },
  {
   "cell_type": "code",
   "execution_count": 58,
   "metadata": {},
   "outputs": [
    {
     "data": {
      "image/png": "[encoded data removed]",
      "text/plain": [
       "<Figure size 720x360 with 1 Axes>"
      ]
     },
     "metadata": {
      "needs_background": "light"
     },
     "output_type": "display_data"
    }
   ],
   "source": [
    "# groupby start_year and gender to plot a graph\n",
    "membership_date  = clean_dataframe.groupby(['start_year', 'gender']).size()\n",
    "membership_date = membership_date.reset_index()\n",
    "membership_date.columns = ['start_year', 'gender', 'count']\n",
    "\n",
    "# plot a bar graph for age distribution as a function of gender in membership program\n",
    "plt.figure(figsize=(10, 5))\n",
    "sns.barplot(x = 'start_year', y='count', hue='gender', data = membership_date)\n",
    "plt.xlabel('Membership Start Year')\n",
    "plt.ylabel('Count');"
   ]
  },
  {
   "cell_type": "markdown",
   "metadata": {},
   "source": [
    "The results suggest that each and every year starbucks is getting new customer specially in 2017 and most customers joined the Starbucks rewards program in 2017 followed by 2018. Plots also depict that there are more male customers joining the program every year more than female customers."
   ]
  },
  {
   "cell_type": "markdown",
   "metadata": {},
   "source": [
    "# MODELS"
   ]
  },
  {
   "cell_type": "code",
   "execution_count": 59,
   "metadata": {},
   "outputs": [],
   "source": [
    "from sklearn.model_selection import train_test_split\n",
    "from sklearn.model_selection import cross_val_score\n",
    "from sklearn.ensemble import RandomForestClassifier\n",
    "from sklearn import metrics"
   ]
  },
  {
   "cell_type": "markdown",
   "metadata": {},
   "source": [
    "# Baseline Random Forest Model"
   ]
  },
  {
   "cell_type": "code",
   "execution_count": 79,
   "metadata": {},
   "outputs": [
    {
     "name": "stdout",
     "output_type": "stream",
     "text": [
      "Model score of Training data 0.8995273899033297\n",
      "Testing data: 0.8972482582326701\n"
     ]
    }
   ],
   "source": [
    "## data=pd.read_csv('master_offer_analysis_final.csv')\n",
    "\n",
    "X=data[['age','gender','income','reward']]\n",
    "y=data['offers']\n",
    "\n",
    "### Splitting the data into train and test\n",
    "X_train, X_test, y_train, y_test = train_test_split(X, y, test_size=0.3, random_state=20)\n",
    "\n",
    "Random_Regressor_model = RandomForestClassifier(n_estimators = 12,random_state = 4, max_depth = 5, n_jobs=-1)        \n",
    "Random_Regressor_model.fit(X_train,y_train)\n",
    "training_score = Random_Regressor_model.score(X_train, y_train)\n",
    "print(\"Model score of Training data\", training_score) \n",
    "\n",
    "testing_score = Random_Regressor_model.score(X_test, y_test)\n",
    "print(\"Testing data:\", testing_score) "
   ]
  },
  {
   "cell_type": "code",
   "execution_count": 80,
   "metadata": {},
   "outputs": [],
   "source": [
    "from sklearn.metrics import classification_report,confusion_matrix\n",
    "import seaborn as sns\n",
    "def evaluate(Random_Regressor_model):\n",
    "    predicted = Random_Regressor_model.predict(X_test)\n",
    "    report = classification_report(y_test, predicted)\n",
    "    matrix = confusion_matrix(y_test, predicted)\n",
    "    print(report)\n",
    "    sns.heatmap(matrix, annot=True,fmt=\".1f\")"
   ]
  },
  {
   "cell_type": "code",
   "execution_count": 81,
   "metadata": {},
   "outputs": [
    {
     "name": "stdout",
     "output_type": "stream",
     "text": [
      "              precision    recall  f1-score   support\n",
      "\n",
      "           1       0.80      1.00      0.89      8008\n",
      "           2       1.00      1.00      1.00      4033\n",
      "           3       1.00      0.74      0.85      7910\n",
      "\n",
      "    accuracy                           0.90     19951\n",
      "   macro avg       0.93      0.91      0.91     19951\n",
      "weighted avg       0.92      0.90      0.90     19951\n",
      "\n"
     ]
    },
    {
     "data": {
      "image/png": "[encoded data removed]",
      "text/plain": [
       "<Figure size 432x288 with 2 Axes>"
      ]
     },
     "metadata": {
      "needs_background": "light"
     },
     "output_type": "display_data"
    }
   ],
   "source": [
    "evaluate(Random_Regressor_model)"
   ]
  },
  {
   "cell_type": "markdown",
   "metadata": {},
   "source": [
    "# K-Nearest Neighbors Model"
   ]
  },
  {
   "cell_type": "code",
   "execution_count": 82,
   "metadata": {},
   "outputs": [
    {
     "name": "stdout",
     "output_type": "stream",
     "text": [
      "0.8550448599067716\n"
     ]
    }
   ],
   "source": [
    "from sklearn.neighbors import KNeighborsClassifier\n",
    "from sklearn.metrics import accuracy_score\n",
    "\n",
    "X=data[['age','gender','income','reward']]\n",
    "y=data['offers']\n",
    "\n",
    "X_train, X_test, y_train, y_test = train_test_split(X, y, test_size=0.3, random_state=20)\n",
    "knn=KNeighborsClassifier()\n",
    "\n",
    "knn.fit(X_train, y_train)\n",
    "y_predict = knn.predict(X_test)\n",
    "print(accuracy_score(y_test, y_predict))"
   ]
  },
  {
   "cell_type": "code",
   "execution_count": 83,
   "metadata": {},
   "outputs": [
    {
     "name": "stdout",
     "output_type": "stream",
     "text": [
      "              precision    recall  f1-score   support\n",
      "\n",
      "           1       0.81      0.88      0.84      8008\n",
      "           2       0.98      0.94      0.96      4033\n",
      "           3       0.84      0.79      0.81      7910\n",
      "\n",
      "    accuracy                           0.86     19951\n",
      "   macro avg       0.88      0.87      0.87     19951\n",
      "weighted avg       0.86      0.86      0.86     19951\n",
      "\n"
     ]
    },
    {
     "data": {
      "image/png": "[encoded data removed]",
      "text/plain": [
       "<Figure size 432x288 with 2 Axes>"
      ]
     },
     "metadata": {
      "needs_background": "light"
     },
     "output_type": "display_data"
    }
   ],
   "source": [
    "evaluate(knn)"
   ]
  },
  {
   "cell_type": "markdown",
   "metadata": {},
   "source": [
    "# Logistic Regression"
   ]
  },
  {
   "cell_type": "code",
   "execution_count": 84,
   "metadata": {},
   "outputs": [
    {
     "name": "stdout",
     "output_type": "stream",
     "text": [
      "Model score Training of data 0.8517481203007519\n",
      "Model score Testing data: 0.8537703932035186\n"
     ]
    }
   ],
   "source": [
    "from sklearn.linear_model import LogisticRegressionCV\n",
    "X=data[['age','gender','income','reward']]\n",
    "y=data['offers']\n",
    "\n",
    "### Splitting the data into train and test\n",
    "X_train, X_test, y_train, y_test = train_test_split(X, y, test_size=0.2, random_state=1)\n",
    "Logistic_r = LogisticRegressionCV(random_state=10,cv=5)\n",
    "Logistic_r.fit(X_train, y_train)\n",
    "score = Logistic_r.score(X_train, y_train)\n",
    "print(\"Model score Training of data\", score) \n",
    "\n",
    "testing_score = Logistic_r.score(X_test, y_test)\n",
    "print(\"Model score Testing data:\", testing_score) "
   ]
  },
  {
   "cell_type": "code",
   "execution_count": 85,
   "metadata": {},
   "outputs": [
    {
     "name": "stdout",
     "output_type": "stream",
     "text": [
      "              precision    recall  f1-score   support\n",
      "\n",
      "           1       0.82      0.81      0.81      5208\n",
      "           2       1.00      1.00      1.00      2702\n",
      "           3       0.82      0.83      0.82      5391\n",
      "\n",
      "    accuracy                           0.85     13301\n",
      "   macro avg       0.88      0.88      0.88     13301\n",
      "weighted avg       0.85      0.85      0.85     13301\n",
      "\n"
     ]
    },
    {
     "data": {
      "image/png": "[encoded data removed]",
      "text/plain": [
       "<Figure size 432x288 with 2 Axes>"
      ]
     },
     "metadata": {
      "needs_background": "light"
     },
     "output_type": "display_data"
    }
   ],
   "source": [
    "evaluate(Logistic_r)"
   ]
  },
  {
   "cell_type": "markdown",
   "metadata": {},
   "source": [
    "# XGBoost Model"
   ]
  },
  {
   "cell_type": "code",
   "execution_count": 68,
   "metadata": {},
   "outputs": [
    {
     "name": "stdout",
     "output_type": "stream",
     "text": [
      "Requirement already satisfied: imblearn in c:\\users\\drumil patel\\anaconda3\\lib\\site-packages (0.0)\n",
      "Requirement already satisfied: imbalanced-learn in c:\\users\\drumil patel\\anaconda3\\lib\\site-packages (from imblearn) (0.9.0)\n",
      "Requirement already satisfied: threadpoolctl>=2.0.0 in c:\\users\\drumil patel\\anaconda3\\lib\\site-packages (from imbalanced-learn->imblearn) (2.1.0)\n",
      "Requirement already satisfied: numpy>=1.14.6 in c:\\users\\drumil patel\\anaconda3\\lib\\site-packages (from imbalanced-learn->imblearn) (1.22.3)\n",
      "Requirement already satisfied: joblib>=0.11 in c:\\users\\drumil patel\\anaconda3\\lib\\site-packages (from imbalanced-learn->imblearn) (0.17.0)\n",
      "Requirement already satisfied: scikit-learn>=1.0.1 in c:\\users\\drumil patel\\anaconda3\\lib\\site-packages (from imbalanced-learn->imblearn) (1.0.2)\n",
      "Requirement already satisfied: scipy>=1.1.0 in c:\\users\\drumil patel\\anaconda3\\lib\\site-packages (from imbalanced-learn->imblearn) (1.5.2)\n",
      "Requirement already satisfied: xgboost in c:\\users\\drumil patel\\anaconda3\\lib\\site-packages (1.5.2)\n",
      "Requirement already satisfied: numpy in c:\\users\\drumil patel\\anaconda3\\lib\\site-packages (from xgboost) (1.22.3)\n",
      "Requirement already satisfied: scipy in c:\\users\\drumil patel\\anaconda3\\lib\\site-packages (from xgboost) (1.5.2)\n"
     ]
    }
   ],
   "source": [
    "# installing xgboost\n",
    "!pip install imblearn\n",
    "!pip install xgboost"
   ]
  },
  {
   "cell_type": "code",
   "execution_count": 86,
   "metadata": {},
   "outputs": [
    {
     "name": "stdout",
     "output_type": "stream",
     "text": [
      "[10:27:18] WARNING: C:/Users/Administrator/workspace/xgboost-win64_release_1.5.1/src/learner.cc:1115: Starting in XGBoost 1.3.0, the default evaluation metric used with the objective 'multi:softprob' was changed from 'merror' to 'mlogloss'. Explicitly set eval_metric if you'd like to restore the old behavior.\n",
      "0.8949426093930128\n"
     ]
    }
   ],
   "source": [
    "from xgboost.sklearn import XGBClassifier\n",
    "from sklearn.metrics import classification_report\n",
    "X=data[['age','gender','income','reward']]\n",
    "y=data['offers']\n",
    "\n",
    "### Splitting the data into train and test\n",
    "X_train, X_test, y_train, y_test = train_test_split(X, y, test_size=0.3, random_state=1)\n",
    "\n",
    "xgb=XGBClassifier()\n",
    "xgb.fit(X_train, y_train)\n",
    "y_predict=xgb.predict(X_test)\n",
    "print(accuracy_score(y_test, y_predict))"
   ]
  },
  {
   "cell_type": "code",
   "execution_count": 87,
   "metadata": {},
   "outputs": [
    {
     "name": "stdout",
     "output_type": "stream",
     "text": [
      "              precision    recall  f1-score   support\n",
      "\n",
      "           1       0.80      0.97      0.88      7864\n",
      "           2       1.00      1.00      1.00      4124\n",
      "           3       0.96      0.77      0.85      7963\n",
      "\n",
      "    accuracy                           0.89     19951\n",
      "   macro avg       0.92      0.91      0.91     19951\n",
      "weighted avg       0.91      0.89      0.89     19951\n",
      "\n"
     ]
    },
    {
     "data": {
      "image/png": "[encoded data removed]",
      "text/plain": [
       "<Figure size 432x288 with 2 Axes>"
      ]
     },
     "metadata": {
      "needs_background": "light"
     },
     "output_type": "display_data"
    }
   ],
   "source": [
    "evaluate(xgb)"
   ]
  },
  {
   "cell_type": "markdown",
   "metadata": {},
   "source": [
    "# Baseline Random Forest Model"
   ]
  },
  {
   "cell_type": "code",
   "execution_count": 88,
   "metadata": {},
   "outputs": [
    {
     "name": "stdout",
     "output_type": "stream",
     "text": [
      "Model score of Training data 0.902749731471536\n",
      "Testing data: 0.9002556262843968\n"
     ]
    }
   ],
   "source": [
    "X=data[['age','gender','income','reward','offers','duration','total_amount']]\n",
    "y=data['offer_successful']\n",
    "\n",
    "### Splitting the data into train and test\n",
    "X_train, X_test, y_train, y_test = train_test_split(X, y, test_size=0.3, random_state=69)\n",
    "Random_Regressor_model2 = RandomForestClassifier(n_estimators = 1,random_state = 40, max_depth = 6, n_jobs=-1)        \n",
    "Random_Regressor_model2.fit(X_train,y_train)\n",
    "training_score = Random_Regressor_model2.score(X_train, y_train)\n",
    "print(\"Model score of Training data\", training_score) \n",
    "\n",
    "testing_score = Random_Regressor_model2.score(X_test, y_test)\n",
    "print(\"Testing data:\", testing_score) \n"
   ]
  },
  {
   "cell_type": "code",
   "execution_count": 89,
   "metadata": {},
   "outputs": [
    {
     "name": "stdout",
     "output_type": "stream",
     "text": [
      "              precision    recall  f1-score   support\n",
      "\n",
      "           0       0.93      0.88      0.90     10507\n",
      "           1       0.87      0.93      0.90      9444\n",
      "\n",
      "    accuracy                           0.90     19951\n",
      "   macro avg       0.90      0.90      0.90     19951\n",
      "weighted avg       0.90      0.90      0.90     19951\n",
      "\n"
     ]
    },
    {
     "data": {
      "image/png": "[encoded data removed]",
      "text/plain": [
       "<Figure size 432x288 with 2 Axes>"
      ]
     },
     "metadata": {
      "needs_background": "light"
     },
     "output_type": "display_data"
    }
   ],
   "source": [
    "evaluate(Random_Regressor_model2)"
   ]
  },
  {
   "cell_type": "markdown",
   "metadata": {},
   "source": [
    "# K-Nearest Neighbors Model"
   ]
  },
  {
   "cell_type": "code",
   "execution_count": 90,
   "metadata": {},
   "outputs": [
    {
     "name": "stdout",
     "output_type": "stream",
     "text": [
      "0.8603578767981555\n"
     ]
    }
   ],
   "source": [
    "X=data[['age','gender','income','reward','offers','duration','total_amount']]\n",
    "y=data['offer_successful']\n",
    "\n",
    "X_train, X_test, y_train, y_test = train_test_split(X, y, test_size=0.3, random_state=69)\n",
    "knn=KNeighborsClassifier()\n",
    "knn.fit(X_train, y_train)\n",
    "y_predict= knn.predict(X_test)\n",
    "print(accuracy_score(y_test, y_predict))"
   ]
  },
  {
   "cell_type": "code",
   "execution_count": 91,
   "metadata": {},
   "outputs": [
    {
     "name": "stdout",
     "output_type": "stream",
     "text": [
      "              precision    recall  f1-score   support\n",
      "\n",
      "           0       0.90      0.82      0.86     10507\n",
      "           1       0.82      0.90      0.86      9444\n",
      "\n",
      "    accuracy                           0.86     19951\n",
      "   macro avg       0.86      0.86      0.86     19951\n",
      "weighted avg       0.86      0.86      0.86     19951\n",
      "\n"
     ]
    },
    {
     "data": {
      "image/png": "[encoded data removed]",
      "text/plain": [
       "<Figure size 432x288 with 2 Axes>"
      ]
     },
     "metadata": {
      "needs_background": "light"
     },
     "output_type": "display_data"
    }
   ],
   "source": [
    "evaluate(knn)"
   ]
  },
  {
   "cell_type": "markdown",
   "metadata": {},
   "source": [
    "# Logistic Regression Model"
   ]
  },
  {
   "cell_type": "code",
   "execution_count": 92,
   "metadata": {},
   "outputs": [
    {
     "name": "stdout",
     "output_type": "stream",
     "text": [
      "Model score Training of data 0.8541138560687432\n",
      "Model score Testing data: 0.8551451055084958\n"
     ]
    }
   ],
   "source": [
    "from sklearn.linear_model import LogisticRegressionCV\n",
    "X=data[['age','gender','income','reward']]\n",
    "y=data['offers']\n",
    "\n",
    "### Splitting the data into train and test\n",
    "X_train, X_test, y_train, y_test = train_test_split(X, y, test_size=0.3, random_state=1)\n",
    "Logistic_r = LogisticRegressionCV(random_state=10,cv=5)\n",
    "Logistic_r.fit(X_train, y_train)\n",
    "score = Logistic_r.score(X_train, y_train)\n",
    "print(\"Model score Training of data\", score) \n",
    "\n",
    "testing_score = Logistic_r.score(X_test, y_test)\n",
    "print(\"Model score Testing data:\", testing_score) "
   ]
  },
  {
   "cell_type": "code",
   "execution_count": 93,
   "metadata": {},
   "outputs": [
    {
     "name": "stdout",
     "output_type": "stream",
     "text": [
      "              precision    recall  f1-score   support\n",
      "\n",
      "           1       0.81      0.83      0.82      7864\n",
      "           2       1.00      1.00      1.00      4124\n",
      "           3       0.83      0.81      0.82      7963\n",
      "\n",
      "    accuracy                           0.86     19951\n",
      "   macro avg       0.88      0.88      0.88     19951\n",
      "weighted avg       0.86      0.86      0.86     19951\n",
      "\n"
     ]
    },
    {
     "data": {
      "image/png": "[encoded data removed]",
      "text/plain": [
       "<Figure size 432x288 with 2 Axes>"
      ]
     },
     "metadata": {
      "needs_background": "light"
     },
     "output_type": "display_data"
    }
   ],
   "source": [
    "evaluate(Logistic_r)"
   ]
  },
  {
   "cell_type": "markdown",
   "metadata": {},
   "source": [
    "# XGBoost Model"
   ]
  },
  {
   "cell_type": "code",
   "execution_count": 94,
   "metadata": {},
   "outputs": [
    {
     "name": "stdout",
     "output_type": "stream",
     "text": [
      "[10:28:07] WARNING: C:/Users/Administrator/workspace/xgboost-win64_release_1.5.1/src/learner.cc:1115: Starting in XGBoost 1.3.0, the default evaluation metric used with the objective 'multi:softprob' was changed from 'merror' to 'mlogloss'. Explicitly set eval_metric if you'd like to restore the old behavior.\n",
      "0.8949426093930128\n"
     ]
    }
   ],
   "source": [
    "X=data[['age','gender','income','reward','offers','duration','total_amount']]\n",
    "y=data['offer_successful']\n",
    "\n",
    "xgb=XGBClassifier()\n",
    "xgb.fit(X_train, y_train)\n",
    "y_predict=xgb.predict(X_test)\n",
    "print(accuracy_score(y_test, y_predict))"
   ]
  },
  {
   "cell_type": "code",
   "execution_count": 95,
   "metadata": {},
   "outputs": [
    {
     "name": "stdout",
     "output_type": "stream",
     "text": [
      "              precision    recall  f1-score   support\n",
      "\n",
      "           1       0.80      0.97      0.88      7864\n",
      "           2       1.00      1.00      1.00      4124\n",
      "           3       0.96      0.77      0.85      7963\n",
      "\n",
      "    accuracy                           0.89     19951\n",
      "   macro avg       0.92      0.91      0.91     19951\n",
      "weighted avg       0.91      0.89      0.89     19951\n",
      "\n"
     ]
    },
    {
     "data": {
      "image/png": "[encoded data removed]",
      "text/plain": [
       "<Figure size 432x288 with 2 Axes>"
      ]
     },
     "metadata": {
      "needs_background": "light"
     },
     "output_type": "display_data"
    }
   ],
   "source": [
    "evaluate(xgb)"
   ]
  },
  {
   "cell_type": "code",
   "execution_count": null,
   "metadata": {},
   "outputs": [],
   "source": []
  }
 ],
 "metadata": {
  "kernelspec": {
   "display_name": "Python 3",
   "language": "python",
   "name": "python3"
  },
  "language_info": {
   "codemirror_mode": {
    "name": "ipython",
    "version": 3
   },
   "file_extension": ".py",
   "mimetype": "text/x-python",
   "name": "python",
   "nbconvert_exporter": "python",
   "pygments_lexer": "ipython3",
   "version": "3.8.5"
  }
 },
 "nbformat": 4,
 "nbformat_minor": 5
}
